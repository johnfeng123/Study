{
 "cells": [
  {
   "cell_type": "code",
   "execution_count": 1,
   "metadata": {},
   "outputs": [],
   "source": [
    "%load_ext autoreload\n",
    "%autoreload 2\n",
    "\n",
    "from DataLoader import DataLoader\n",
    "import utils\n",
    "\n",
    "import pandas as pd\n",
    "import numpy as np\n",
    "\n",
    "import matplotlib.pyplot as plt\n",
    "%matplotlib inline\n",
    "\n",
    "import seaborn as sns\n",
    "sns.set_style('white')"
   ]
  },
  {
   "cell_type": "code",
   "execution_count": 2,
   "metadata": {},
   "outputs": [
    {
     "name": "stderr",
     "output_type": "stream",
     "text": [
      "C:\\Users\\Biao Feng\\Anaconda3\\lib\\site-packages\\IPython\\core\\interactiveshell.py:3267: DtypeWarning: Columns (9) have mixed types. Specify dtype option on import or set low_memory=False.\n",
      "  exec(code_obj, self.user_global_ns, self.user_ns)\n",
      "C:\\Users\\Biao Feng\\Anaconda3\\lib\\site-packages\\IPython\\core\\interactiveshell.py:3267: DtypeWarning: Columns (35) have mixed types. Specify dtype option on import or set low_memory=False.\n",
      "  exec(code_obj, self.user_global_ns, self.user_ns)\n",
      "C:\\Users\\Biao Feng\\Anaconda3\\lib\\site-packages\\pandas\\core\\indexing.py:543: SettingWithCopyWarning: \n",
      "A value is trying to be set on a copy of a slice from a DataFrame.\n",
      "Try using .loc[row_indexer,col_indexer] = value instead\n",
      "\n",
      "See the caveats in the documentation: http://pandas.pydata.org/pandas-docs/stable/indexing.html#indexing-view-versus-copy\n",
      "  self.obj[item] = s\n"
     ]
    }
   ],
   "source": [
    "#loc = USER DATA LOCATION\n",
    "loc='C:/Users/Biao Feng/source/Anaconda3/practicum/'\n",
    "self = DataLoader(loc=loc)"
   ]
  },
  {
   "cell_type": "code",
   "execution_count": 3,
   "metadata": {},
   "outputs": [],
   "source": [
    "linktable = self.data['link'].rename(columns = {'GVKEY':'gvkey'})\n",
    "\n",
    "c = self.preaggregate_crsp_table(self.data['crsp'])\n",
    "\n",
    "#merge crsp and link table\n",
    "crsp_link = pd.merge(c,\n",
    "               linktable,\n",
    "               how ='inner',\n",
    "               left_on=['PERMNO', 'me_date'],\n",
    "               right_on= ['LPERMNO', 'datadate'])"
   ]
  },
  {
   "cell_type": "code",
   "execution_count": 4,
   "metadata": {},
   "outputs": [],
   "source": [
    "import tqdm"
   ]
  },
  {
   "cell_type": "code",
   "execution_count": 5,
   "metadata": {},
   "outputs": [
    {
     "name": "stderr",
     "output_type": "stream",
     "text": [
      "100%|██████████████████████████████████████████████████████████████████████| 100000/100000 [00:00<00:00, 113419.68it/s]\n"
     ]
    }
   ],
   "source": [
    "for i in tqdm.tqdm(range(100000)):\n",
    "    np.random.normal(size=10)"
   ]
  },
  {
   "cell_type": "code",
   "execution_count": 6,
   "metadata": {},
   "outputs": [
    {
     "data": {
      "text/plain": [
       "gvkey   date        SHRCLS  TICKER\n",
       "1000    1970-12-31  NA      AE        1\n",
       "        1971-03-31  NA      AE        1\n",
       "        1971-06-30  NA      AE        1\n",
       "        1971-09-30  NA      AE        1\n",
       "        1971-12-31  NA      AE        1\n",
       "        1972-03-30  NA      AE        1\n",
       "        1972-06-30  NA      AE        1\n",
       "        1972-09-29  NA      AE        1\n",
       "        1972-12-29  NA      AE        1\n",
       "        1973-03-30  NA      AE        1\n",
       "        1973-06-29  NA      AE        1\n",
       "        1973-09-28  NA      AE        1\n",
       "        1973-12-31  NA      AE        1\n",
       "        1974-03-29  NA      AE        1\n",
       "        1974-06-28  NA      AE        1\n",
       "        1974-09-30  NA      AE        1\n",
       "        1974-12-31  NA      AE        1\n",
       "        1975-03-31  NA      AE        1\n",
       "        1975-06-30  NA      AE        1\n",
       "        1975-09-30  NA      AE        1\n",
       "        1975-12-31  NA      AE        1\n",
       "        1976-03-31  NA      AE        1\n",
       "        1976-06-30  NA      AE        1\n",
       "        1976-09-30  NA      AE        1\n",
       "        1976-12-31  NA      AE        1\n",
       "        1977-03-31  NA      AE        1\n",
       "        1977-06-30  NA      AE        1\n",
       "        1977-09-30  NA      AE        1\n",
       "        1977-12-30  NA      AE        1\n",
       "        1978-03-31  NA      AE        1\n",
       "                                     ..\n",
       "153351  1998-12-31  NA      ALGO      1\n",
       "        1999-03-31  NA      ALGO      1\n",
       "        1999-06-30  NA      ALGO      1\n",
       "        1999-09-30  NA      ALGO      1\n",
       "        1999-12-31  NA      ALGO      1\n",
       "        2000-03-31  NA      ALGO      1\n",
       "184740  1979-12-31  NA      PGE       1\n",
       "        1980-03-31  NA      PGE       1\n",
       "        1980-06-30  NA      PGE       1\n",
       "        1980-09-30  NA      PGE       1\n",
       "        1980-12-31  NA      PGE       1\n",
       "        1981-03-31  NA      PGE       1\n",
       "        1981-06-30  NA      PGE       1\n",
       "        1981-09-30  NA      PGE       1\n",
       "        1981-12-31  NA      PGE       1\n",
       "        1982-03-31  NA      PGE       1\n",
       "        1982-06-30  NA      PGE       1\n",
       "        1982-09-30  NA      PGE       1\n",
       "        1982-12-31  NA      PGE       1\n",
       "        1983-03-31  NA      PGE       1\n",
       "        1983-06-30  NA      PGE       1\n",
       "        1983-09-30  NA      PGE       1\n",
       "        1983-12-30  NA      PGE       1\n",
       "        1984-03-30  NA      PGE       1\n",
       "        1984-06-29  NA      PGE       1\n",
       "        1984-09-28  NA      PGE       1\n",
       "        1984-12-31  NA      PGE       1\n",
       "        1985-03-29  NA      PGE       1\n",
       "        1985-06-28  NA      PGE       1\n",
       "        1985-09-30  NA      PGE       1\n",
       "Name: gvkey, Length: 498920, dtype: int64"
      ]
     },
     "execution_count": 6,
     "metadata": {},
     "output_type": "execute_result"
    }
   ],
   "source": [
    "tmp = crsp_link[['date', 'SHRCLS', 'gvkey', 'mcap', 'QRET', 'TICKER']].drop_duplicates()\n",
    "tmp = tmp.groupby(['gvkey', 'date', 'SHRCLS', 'TICKER']).gvkey.count()\n",
    "tmp"
   ]
  },
  {
   "cell_type": "code",
   "execution_count": 7,
   "metadata": {},
   "outputs": [],
   "source": [
    "df = crsp_link.copy()\n",
    "\n",
    "aggr_mcap = df.groupby(['gvkey', 'date']).mcap.sum().reset_index()\n",
    "\n",
    "df = df.rename(columns={'QRET':'QRET_indi'})\n",
    "\n",
    "df3 = pd.merge(df, aggr_mcap, on=['gvkey', 'date'], suffixes=('', '_aggr'))\n",
    "\n",
    "df3 = df3.assign(mcap_weight=lambda row: row.mcap / row.mcap_aggr)\n",
    "\n",
    "tmp = df3.groupby(['PERMNO', 'SHRCLS', 'date'])['mcap_weight'].last().unstack(-1).T.sort_index()\n",
    "tmp = tmp.shift(1)\n",
    "tmp = tmp.T.stack().reset_index().rename(columns={0:'mcap_weight'})\n",
    "\n",
    "df3 =pd.merge(df3.drop(['mcap_weight'], axis=1), tmp, on=['PERMNO', 'SHRCLS', 'date'])\n",
    "\n",
    "df3 = df3.assign(RET=lambda row: row.QRET_indi * row.mcap_weight)\n",
    "\n",
    "new_df = pd.merge(df3.groupby(['gvkey', 'date']).RET.sum().reset_index(), aggr_mcap, on=['gvkey', 'date'])\n"
   ]
  },
  {
   "cell_type": "code",
   "execution_count": 8,
   "metadata": {},
   "outputs": [
    {
     "data": {
      "text/plain": [
       "(484512, 19)"
      ]
     },
     "execution_count": 8,
     "metadata": {},
     "output_type": "execute_result"
    }
   ],
   "source": [
    "df3.shape"
   ]
  },
  {
   "cell_type": "code",
   "execution_count": 9,
   "metadata": {},
   "outputs": [
    {
     "data": {
      "text/plain": [
       "(484512, 19)"
      ]
     },
     "execution_count": 9,
     "metadata": {},
     "output_type": "execute_result"
    }
   ],
   "source": [
    "df3.shape"
   ]
  },
  {
   "cell_type": "code",
   "execution_count": 10,
   "metadata": {},
   "outputs": [
    {
     "data": {
      "text/plain": [
       "(494633, 4)"
      ]
     },
     "execution_count": 10,
     "metadata": {},
     "output_type": "execute_result"
    }
   ],
   "source": [
    "tmp = tmp.shift(1)\n",
    "tmp.shape"
   ]
  },
  {
   "cell_type": "code",
   "execution_count": 11,
   "metadata": {},
   "outputs": [],
   "source": [
    "tmp = df3.groupby(['PERMNO', 'SHRCLS', 'date'])['mcap_weight'].last().unstack(-1).T.sort_index()\n",
    "tmp = tmp.shift(1)\n",
    "tmp = tmp.T.stack().reset_index().rename(columns={0:'mcap_weight'})\n",
    "\n",
    "df3 =pd.merge(df3.drop(['mcap_weight'], axis=1), tmp, on=['PERMNO', 'SHRCLS', 'date'])"
   ]
  },
  {
   "cell_type": "code",
   "execution_count": 12,
   "metadata": {},
   "outputs": [
    {
     "data": {
      "text/plain": [
       "Index(['gvkey', 'datadate', 'fyearq', 'datafqtr', 'rdq', 'atq', 'ltq', 'niq',\n",
       "       'exchg', 'prccq', 'date', 'RET', 'mcap'],\n",
       "      dtype='object')"
      ]
     },
     "execution_count": 12,
     "metadata": {},
     "output_type": "execute_result"
    }
   ],
   "source": [
    "merged = pd.merge(self.data['compustat'],\n",
    "                  new_df,\n",
    "                  how ='inner',\n",
    "                  left_on=['gvkey', 'datadate'],\n",
    "                  right_on=['gvkey', 'date'])\n",
    "\n",
    "m = pd.merge(merged,\n",
    "             self.mcap_breakpoints,\n",
    "             how='left',\n",
    "             left_on='datadate',\n",
    "             right_on='mcap_date')\n",
    "merged.columns"
   ]
  },
  {
   "cell_type": "code",
   "execution_count": 13,
   "metadata": {},
   "outputs": [],
   "source": [
    "col = 'rdq'\n",
    "icol = 'datadate'\n",
    "target_data =  m.loc[:,[icol, 'gvkey', col]]\n",
    "target_data = target_data.drop_duplicates([icol, 'gvkey'], keep='first')"
   ]
  },
  {
   "cell_type": "code",
   "execution_count": 14,
   "metadata": {},
   "outputs": [
    {
     "data": {
      "text/plain": [
       "Index(['datadate', 'gvkey', 'rdq'], dtype='object')"
      ]
     },
     "execution_count": 14,
     "metadata": {},
     "output_type": "execute_result"
    }
   ],
   "source": [
    "target_data.columns"
   ]
  },
  {
   "cell_type": "code",
   "execution_count": 15,
   "metadata": {},
   "outputs": [],
   "source": [
    "v = target_data.pivot(index=icol, columns='gvkey', values=col)"
   ]
  },
  {
   "cell_type": "code",
   "execution_count": 16,
   "metadata": {},
   "outputs": [
    {
     "data": {
      "text/plain": [
       "datadate\n",
       "1962-12-31       0\n",
       "1963-09-30       0\n",
       "1963-12-31       0\n",
       "1964-03-31       0\n",
       "1964-06-30       0\n",
       "1964-09-30       0\n",
       "1964-12-31       0\n",
       "1965-03-31       0\n",
       "1965-06-30       0\n",
       "1965-09-30       0\n",
       "1965-12-31       0\n",
       "1966-03-31       0\n",
       "1966-06-30       0\n",
       "1966-09-30       0\n",
       "1967-03-31       0\n",
       "1967-06-30       0\n",
       "1968-09-30       0\n",
       "1968-12-31       0\n",
       "1969-06-30       0\n",
       "1969-09-30       0\n",
       "1969-12-31       0\n",
       "1970-03-31       0\n",
       "1970-06-30       0\n",
       "1970-09-30       0\n",
       "1970-12-31       0\n",
       "1971-03-31       1\n",
       "1971-06-30       6\n",
       "1971-09-30    1118\n",
       "1971-12-31    1137\n",
       "1972-06-30    1230\n",
       "              ... \n",
       "1992-03-31    3182\n",
       "1992-06-30    3286\n",
       "1992-09-30    3343\n",
       "1992-12-31    3408\n",
       "1993-03-31    3477\n",
       "1993-06-30    3556\n",
       "1993-09-30    3655\n",
       "1993-12-31    3800\n",
       "1994-03-31    4275\n",
       "1994-06-30    4441\n",
       "1994-09-30    4477\n",
       "1995-03-31    4581\n",
       "1995-06-30    4613\n",
       "1996-09-30    4956\n",
       "1996-12-31    5063\n",
       "1997-03-31    5183\n",
       "1997-06-30    5224\n",
       "1997-09-30    5229\n",
       "1997-12-31    5255\n",
       "1998-03-31    5347\n",
       "1998-06-30    5331\n",
       "1998-09-30    5258\n",
       "1998-12-31    5173\n",
       "1999-03-31    5125\n",
       "1999-06-30    5075\n",
       "1999-09-30    5119\n",
       "1999-12-31    5305\n",
       "2000-03-31    5325\n",
       "2000-06-30    5342\n",
       "2001-12-31    4717\n",
       "Length: 111, dtype: int64"
      ]
     },
     "execution_count": 16,
     "metadata": {},
     "output_type": "execute_result"
    }
   ],
   "source": [
    "#v.count(0).plot()\n",
    "import matplotlib.pyplot as plt\n",
    "v.count(1)"
   ]
  },
  {
   "cell_type": "code",
   "execution_count": 17,
   "metadata": {},
   "outputs": [
    {
     "data": {
      "text/plain": [
       "<matplotlib.axes._subplots.AxesSubplot at 0x284a090ffd0>"
      ]
     },
     "execution_count": 17,
     "metadata": {},
     "output_type": "execute_result"
    },
    {
     "data": {
      "image/png": "[encoded data removed]",
      "text/plain": [
       "<Figure size 432x288 with 1 Axes>"
      ]
     },
     "metadata": {
      "needs_background": "light"
     },
     "output_type": "display_data"
    }
   ],
   "source": [
    "m1 = m[['gvkey','datadate','rdq']].dropna(axis = 0, how = 'any')\n",
    "col = 'rdq'\n",
    "icol = 'datadate'\n",
    "\n",
    "target_data =  m1.loc[:,[icol, 'gvkey', col]]\n",
    "target_data = target_data.drop_duplicates([icol, 'gvkey'], keep='first')\n",
    "v1 = target_data.pivot(index=icol, columns='gvkey', values=col)\n",
    "#v.count(0).plot()\n",
    "import matplotlib.pyplot as plt\n",
    "v.count(1).plot()\n",
    "v1.count(1).plot()\n"
   ]
  },
  {
   "cell_type": "code",
   "execution_count": 18,
   "metadata": {},
   "outputs": [
    {
     "data": {
      "text/plain": [
       "<matplotlib.axes._subplots.AxesSubplot at 0x284b94ccc18>"
      ]
     },
     "execution_count": 18,
     "metadata": {},
     "output_type": "execute_result"
    },
    {
     "data": {
      "image/png": "[encoded data removed]",
      "text/plain": [
       "<Figure size 432x288 with 1 Axes>"
      ]
     },
     "metadata": {
      "needs_background": "light"
     },
     "output_type": "display_data"
    }
   ],
   "source": [
    "m['datadate'].value_counts().plot()\n",
    "m1['datadate'].value_counts().plot()"
   ]
  },
  {
   "cell_type": "code",
   "execution_count": 19,
   "metadata": {},
   "outputs": [],
   "source": [
    "m1['new_date'] = m1['datadate'].astype('str')"
   ]
  },
  {
   "cell_type": "code",
   "execution_count": 20,
   "metadata": {},
   "outputs": [
    {
     "ename": "NameError",
     "evalue": "name 'n' is not defined",
     "output_type": "error",
     "traceback": [
      "\u001b[1;31m---------------------------------------------------------------------------\u001b[0m",
      "\u001b[1;31mNameError\u001b[0m                                 Traceback (most recent call last)",
      "\u001b[1;32m<ipython-input-20-ee3fb238f351>\u001b[0m in \u001b[0;36m<module>\u001b[1;34m\u001b[0m\n\u001b[0;32m      5\u001b[0m \u001b[1;32mfor\u001b[0m \u001b[0mi\u001b[0m \u001b[1;32min\u001b[0m \u001b[0mm1\u001b[0m\u001b[1;33m.\u001b[0m\u001b[0mindex\u001b[0m\u001b[1;33m:\u001b[0m\u001b[1;33m\u001b[0m\u001b[1;33m\u001b[0m\u001b[0m\n\u001b[0;32m      6\u001b[0m     \u001b[1;31m#m1.ix[i,'new_date'] = dt.datetime.strptime(m1.ix[i,'new_date'], '%Y-%m-%d')\u001b[0m\u001b[1;33m\u001b[0m\u001b[1;33m\u001b[0m\u001b[1;33m\u001b[0m\u001b[0m\n\u001b[1;32m----> 7\u001b[1;33m     \u001b[0mn\u001b[0m \u001b[1;33m+=\u001b[0m \u001b[1;33m[\u001b[0m\u001b[0mdt\u001b[0m\u001b[1;33m.\u001b[0m\u001b[0mtimedelta\u001b[0m\u001b[1;33m(\u001b[0m\u001b[0mdays\u001b[0m\u001b[1;33m=\u001b[0m\u001b[0mmonthrange\u001b[0m\u001b[1;33m(\u001b[0m\u001b[0mint\u001b[0m\u001b[1;33m(\u001b[0m\u001b[0mm1\u001b[0m\u001b[1;33m[\u001b[0m\u001b[0mi\u001b[0m\u001b[1;33m,\u001b[0m\u001b[1;34m'new_date'\u001b[0m\u001b[1;33m]\u001b[0m\u001b[1;33m[\u001b[0m\u001b[1;33m:\u001b[0m\u001b[1;36m4\u001b[0m\u001b[1;33m]\u001b[0m\u001b[1;33m)\u001b[0m\u001b[1;33m,\u001b[0m\u001b[0mint\u001b[0m\u001b[1;33m(\u001b[0m\u001b[0mm1\u001b[0m\u001b[1;33m[\u001b[0m\u001b[0mi\u001b[0m\u001b[1;33m,\u001b[0m\u001b[1;34m'new_date'\u001b[0m\u001b[1;33m]\u001b[0m\u001b[1;33m[\u001b[0m\u001b[1;36m5\u001b[0m\u001b[1;33m:\u001b[0m\u001b[1;36m7\u001b[0m\u001b[1;33m]\u001b[0m\u001b[1;33m)\u001b[0m\u001b[1;33m)\u001b[0m\u001b[1;33m[\u001b[0m\u001b[1;36m1\u001b[0m\u001b[1;33m]\u001b[0m\u001b[1;33m)\u001b[0m \u001b[1;32mfor\u001b[0m \u001b[0mj\u001b[0m \u001b[1;32min\u001b[0m \u001b[0mrange\u001b[0m\u001b[1;33m(\u001b[0m\u001b[1;36m6\u001b[0m\u001b[1;33m)\u001b[0m\u001b[1;33m]\u001b[0m\u001b[1;33m\u001b[0m\u001b[1;33m\u001b[0m\u001b[0m\n\u001b[0m\u001b[0;32m      8\u001b[0m     \u001b[0mm1\u001b[0m\u001b[1;33m.\u001b[0m\u001b[0mix\u001b[0m\u001b[1;33m[\u001b[0m\u001b[0mi\u001b[0m\u001b[1;33m,\u001b[0m\u001b[1;34m'new_date'\u001b[0m\u001b[1;33m]\u001b[0m \u001b[1;33m=\u001b[0m \u001b[0mm1\u001b[0m\u001b[1;33m.\u001b[0m\u001b[0mix\u001b[0m\u001b[1;33m[\u001b[0m\u001b[0mi\u001b[0m\u001b[1;33m,\u001b[0m\u001b[1;34m'new_date'\u001b[0m\u001b[1;33m]\u001b[0m\u001b[1;33m.\u001b[0m\u001b[0mstrftime\u001b[0m\u001b[1;33m(\u001b[0m\u001b[1;34m'%Y-%m-%d'\u001b[0m\u001b[1;33m)\u001b[0m\u001b[1;33m\u001b[0m\u001b[1;33m\u001b[0m\u001b[0m\n\u001b[0;32m      9\u001b[0m \u001b[0mm1\u001b[0m\u001b[1;33m[\u001b[0m\u001b[1;34m'compare'\u001b[0m\u001b[1;33m]\u001b[0m \u001b[1;33m=\u001b[0m \u001b[0mm1\u001b[0m\u001b[1;33m[\u001b[0m\u001b[1;34m'new_date'\u001b[0m\u001b[1;33m]\u001b[0m \u001b[1;33m>\u001b[0m \u001b[0mm1\u001b[0m\u001b[1;33m[\u001b[0m\u001b[1;34m'rdq'\u001b[0m\u001b[1;33m]\u001b[0m\u001b[1;33m.\u001b[0m\u001b[0mreplace\u001b[0m\u001b[1;33m(\u001b[0m\u001b[1;34m'/'\u001b[0m\u001b[1;33m,\u001b[0m\u001b[1;34m'-'\u001b[0m\u001b[1;33m)\u001b[0m\u001b[1;33m\u001b[0m\u001b[1;33m\u001b[0m\u001b[0m\n",
      "\u001b[1;31mNameError\u001b[0m: name 'n' is not defined"
     ]
    }
   ],
   "source": [
    "import datetime as dt\n",
    "import time\n",
    "from calendar import monthrange\n",
    "#m1['new_date'] = dt.datetime.strptime(m1['new_date'], '%Y-%M-%D')\n",
    "for i in m1.index:\n",
    "    #m1.ix[i,'new_date'] = dt.datetime.strptime(m1.ix[i,'new_date'], '%Y-%m-%d')\n",
    "    n += [dt.timedelta(days=monthrange(int(m1[i,'new_date'][:4]),int(m1[i,'new_date'][5:7]))[1]) for j in range(6)]\n",
    "    m1.ix[i,'new_date'] = m1.ix[i,'new_date'].strftime('%Y-%m-%d')\n",
    "m1['compare'] = m1['new_date'] > m1['rdq'].replace('/','-')"
   ]
  },
  {
   "cell_type": "code",
   "execution_count": null,
   "metadata": {},
   "outputs": [],
   "source": [
    "n = 0\n",
    "n += [dt.timedelta(days=monthrange(int(m1.ix[2,'new_date'][:4]),int(m1.ix[2,'new_date'][5:7]))[1]) for j in range(6)]"
   ]
  },
  {
   "cell_type": "code",
   "execution_count": null,
   "metadata": {},
   "outputs": [],
   "source": [
    "m1.ix[2,'new_date'] = m1.ix[2,'new_date'] + dt.timedelta(days = monthrange(int(m1.ix[2,'new_date'][:4]),int(m1.ix[2,'new_date'][5:7]))[1])"
   ]
  },
  {
   "cell_type": "code",
   "execution_count": null,
   "metadata": {},
   "outputs": [],
   "source": [
    "m = pd.DataFrame([1,2,3], [13,3,3])\n",
    "print(m)"
   ]
  },
  {
   "cell_type": "code",
   "execution_count": null,
   "metadata": {},
   "outputs": [],
   "source": [
    "v.dropna()"
   ]
  },
  {
   "cell_type": "code",
   "execution_count": null,
   "metadata": {},
   "outputs": [],
   "source": [
    "v"
   ]
  },
  {
   "cell_type": "code",
   "execution_count": null,
   "metadata": {},
   "outputs": [],
   "source": [
    "crsp = pd.read_csv('crsp returns all 1962-2001_csv.zip',\n",
    "                   parse_dates=['date'])"
   ]
  },
  {
   "cell_type": "code",
   "execution_count": null,
   "metadata": {},
   "outputs": [],
   "source": [
    "compustat = pd.read_csv('compustat_fundamentals qtr 1962-2001_csv.zip',\n",
    "                          parse_dates=['datadate'])"
   ]
  },
  {
   "cell_type": "code",
   "execution_count": 29,
   "metadata": {},
   "outputs": [
    {
     "ename": "NameError",
     "evalue": "name 'compustat' is not defined",
     "output_type": "error",
     "traceback": [
      "\u001b[1;31m---------------------------------------------------------------------------\u001b[0m",
      "\u001b[1;31mNameError\u001b[0m                                 Traceback (most recent call last)",
      "\u001b[1;32m<ipython-input-29-e0c46fcf0f79>\u001b[0m in \u001b[0;36m<module>\u001b[1;34m\u001b[0m\n\u001b[1;32m----> 1\u001b[1;33m \u001b[0mcompustat\u001b[0m\u001b[1;33m\u001b[0m\u001b[1;33m\u001b[0m\u001b[0m\n\u001b[0m",
      "\u001b[1;31mNameError\u001b[0m: name 'compustat' is not defined"
     ]
    }
   ],
   "source": [
    "compustat"
   ]
  },
  {
   "cell_type": "code",
   "execution_count": 28,
   "metadata": {},
   "outputs": [
    {
     "name": "stdout",
     "output_type": "stream",
     "text": [
      "          0         1         2\n",
      "0  1.000000  1.000000 -0.866025\n",
      "1  1.000000  1.000000 -0.866025\n",
      "2 -0.866025 -0.866025  1.000000\n"
     ]
    }
   ],
   "source": [
    "a = pd.DataFrame([[1,2,3],[2,3,3],[3,4,2]])\n",
    "print(a.corr())\n"
   ]
  }
 ],
 "metadata": {
  "kernelspec": {
   "display_name": "Python 3",
   "language": "python",
   "name": "python3"
  },
  "language_info": {
   "codemirror_mode": {
    "name": "ipython",
    "version": 3
   },
   "file_extension": ".py",
   "mimetype": "text/x-python",
   "name": "python",
   "nbconvert_exporter": "python",
   "pygments_lexer": "ipython3",
   "version": "3.7.1"
  }
 },
 "nbformat": 4,
 "nbformat_minor": 2
}
