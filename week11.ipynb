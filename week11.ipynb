{
 "cells": [
  {
   "cell_type": "code",
   "execution_count": 1,
   "metadata": {},
   "outputs": [],
   "source": [
    "import pandas as pd\n",
    "import numpy as np"
   ]
  },
  {
   "cell_type": "code",
   "execution_count": 2,
   "metadata": {},
   "outputs": [],
   "source": [
    "import utils\n",
    "from DataLoader import DataLoader as DL\n",
    "from DataLoader18 import DataLoader as DL18"
   ]
  },
  {
   "cell_type": "code",
   "execution_count": 4,
   "metadata": {},
   "outputs": [],
   "source": [
    "import matplotlib.pyplot as plt\n",
    "%matplotlib inline\n",
    "\n",
    "import seaborn as sns"
   ]
  },
  {
   "cell_type": "code",
   "execution_count": 5,
   "metadata": {},
   "outputs": [],
   "source": [
    "import statsmodels.tsa.api as sta\n",
    "import statsmodels.tsa.stattools as stattools\n",
    "import statsmodels.tsa.api as smt\n",
    "import statsmodels.api as sm\n",
    "import statsmodels.stats.stattools as stools\n",
    "\n",
    "import scipy.stats as stats"
   ]
  },
  {
   "cell_type": "code",
   "execution_count": 22,
   "metadata": {},
   "outputs": [
    {
     "name": "stderr",
     "output_type": "stream",
     "text": [
      "C:\\Users\\Biao Feng\\Anaconda3\\lib\\site-packages\\IPython\\core\\interactiveshell.py:3267: DtypeWarning: Columns (9) have mixed types. Specify dtype option on import or set low_memory=False.\n",
      "  exec(code_obj, self.user_global_ns, self.user_ns)\n"
     ]
    }
   ],
   "source": [
    "loc = 'C:/Users/Biao Feng/source/Anaconda3/practicum/'\n",
    "d = DL(loc)"
   ]
  },
  {
   "cell_type": "code",
   "execution_count": 4,
   "metadata": {},
   "outputs": [
    {
     "name": "stderr",
     "output_type": "stream",
     "text": [
      "C:\\Users\\Biao Feng\\Anaconda3\\lib\\site-packages\\IPython\\core\\interactiveshell.py:3267: DtypeWarning: Columns (9,49) have mixed types. Specify dtype option on import or set low_memory=False.\n",
      "  exec(code_obj, self.user_global_ns, self.user_ns)\n",
      "C:\\Users\\Biao Feng\\Anaconda3\\lib\\site-packages\\pandas\\core\\indexing.py:543: SettingWithCopyWarning: \n",
      "A value is trying to be set on a copy of a slice from a DataFrame.\n",
      "Try using .loc[row_indexer,col_indexer] = value instead\n",
      "\n",
      "See the caveats in the documentation: http://pandas.pydata.org/pandas-docs/stable/indexing.html#indexing-view-versus-copy\n",
      "  self.obj[item] = s\n"
     ]
    }
   ],
   "source": [
    "from DataLoader18 import DataLoader as DL18\n",
    "loc = 'C:/Users/Biao Feng/source/Anaconda3/practicum/'\n",
    "d18 = DL18(loc)"
   ]
  },
  {
   "cell_type": "code",
   "execution_count": 6,
   "metadata": {},
   "outputs": [],
   "source": [
    "def norm_rank(kk):\n",
    "    ## for every row, rank from small to big, then minus 0.5, \n",
    "    ## then divide number of data in row\n",
    "    ## ppf: inverse function of cdf\n",
    "    ## - 0.5 make sure no 1 or 0 in the ppf\n",
    "    tmp = stats.norm.ppf((kk.rank(1)-.5).div(kk.count(1), 0))\n",
    "    ## set index and columns\n",
    "    kk = pd.DataFrame(tmp, index=kk.index, columns=kk.columns)\n",
    "    ## normalization\n",
    "    kk = kk.div(kk.std(1), 0)\n",
    "    return kk\n",
    "\n",
    "def chi_rank(kk):\n",
    "    ## for every row, rank from small to big, then minus 0.5, \n",
    "    ## then divide number of data in row\n",
    "    ## ppf: inverse function of cdf\n",
    "    ## - 0.5 make sure no 1 or 0 in the ppf\n",
    "    tmp = stats.chi2.ppf((kk.rank(1)-.5).div(kk.count(1), 0), 1)\n",
    "    ## set index and columns\n",
    "    kk = pd.DataFrame(tmp, index=kk.index, columns=kk.columns)\n",
    "    ## normalization\n",
    "    kk = kk.sub(kk.mean(1),0).div(kk.std(1), 0)\n",
    "    return kk\n",
    "\n",
    "def get_cross_section(df,col_name):\n",
    "    tt = df.stack().reset_index().rename(columns={0: col_name})\n",
    "    return tt"
   ]
  },
  {
   "cell_type": "code",
   "execution_count": 7,
   "metadata": {},
   "outputs": [],
   "source": [
    "import tqdm"
   ]
  },
  {
   "cell_type": "code",
   "execution_count": 8,
   "metadata": {},
   "outputs": [
    {
     "name": "stderr",
     "output_type": "stream",
     "text": [
      "100%|██████████████████████████████████████████████████████████████████████████████████| 60/60 [01:14<00:00,  1.24s/it]\n"
     ]
    }
   ],
   "source": [
    "all_vars = {}\n",
    "for i in tqdm.tqdm(range(0,len(d.cols_q))):\n",
    "    all_vars[d.cols_q[i]] = d.get_time_series(d.merged_table, d.cols_q[i], icol='datadate')"
   ]
  },
  {
   "cell_type": "code",
   "execution_count": 65,
   "metadata": {
    "scrolled": true
   },
   "outputs": [],
   "source": [
    "merge_table = pd.concat([d.merged_table, d18.merged_table]).sort_values(['gvkey','datadate']).drop_duplicates(['gvkey','datadate'], keep = 'first')"
   ]
  },
  {
   "cell_type": "code",
   "execution_count": 67,
   "metadata": {},
   "outputs": [
    {
     "data": {
      "text/plain": [
       "(467933, 78)"
      ]
     },
     "execution_count": 67,
     "metadata": {},
     "output_type": "execute_result"
    }
   ],
   "source": [
    "merge_table = merge_table.sort_values(['gvkey','datadate'])\n"
   ]
  },
  {
   "cell_type": "code",
   "execution_count": 3,
   "metadata": {},
   "outputs": [
    {
     "name": "stdout",
     "output_type": "stream",
     "text": [
      "(467933, 79)\n"
     ]
    }
   ],
   "source": [
    "import pandas as pd\n",
    "m = pd.read_csv('merged_table_full')\n",
    "print(m.shape)"
   ]
  },
  {
   "cell_type": "code",
   "execution_count": 68,
   "metadata": {},
   "outputs": [
    {
     "data": {
      "text/plain": [
       "(463409, 78)"
      ]
     },
     "execution_count": 68,
     "metadata": {},
     "output_type": "execute_result"
    }
   ],
   "source": [
    "merge_table1 = merge_table.drop_duplicates(['gvkey','datadate'], keep = 'first')\n",
    "merge_table1.shape"
   ]
  },
  {
   "cell_type": "code",
   "execution_count": 9,
   "metadata": {},
   "outputs": [],
   "source": [
    "mcap = d.get_time_series(d.merged_table, 'mcap')\n",
    "ret = d.get_time_series(d.merged_table, 'RET')\n",
    "\n",
    "## if data's mcap is bigger than breakpoint\n",
    "d.merged_table.loc[:, 'in_universe']=[np.nan if pd.isnull(m) or pd.isnull(b) or m < b else 1 \n",
    "                                      for m,b in zip(d.merged_table.mcap.values, d.merged_table.breakpt.values)]"
   ]
  },
  {
   "cell_type": "code",
   "execution_count": 70,
   "metadata": {},
   "outputs": [],
   "source": [
    "merge_table.to_csv('merged_table_full.csv')"
   ]
  },
  {
   "cell_type": "code",
   "execution_count": 10,
   "metadata": {},
   "outputs": [],
   "source": [
    "# use data only after 1977\n",
    "st = '1977'\n",
    "\n",
    "#make example by industry 11\n",
    "industry = 'i3'\n",
    "\n",
    "#get industry universe\n",
    "in_universe = d.get_time_series(d.merged_table[d.merged_table[industry]==1], 'in_universe')\n",
    "in_univ = in_universe[st:].fillna(method='ffill', limit=3)"
   ]
  },
  {
   "cell_type": "code",
   "execution_count": 11,
   "metadata": {},
   "outputs": [
    {
     "data": {
      "text/plain": [
       "(2456, 2631)"
      ]
     },
     "execution_count": 11,
     "metadata": {},
     "output_type": "execute_result"
    }
   ],
   "source": [
    "cols = in_univ.loc[:, in_univ.count()>0].columns\n",
    "len(cols), len(in_univ.columns)"
   ]
  },
  {
   "cell_type": "code",
   "execution_count": 20,
   "metadata": {},
   "outputs": [],
   "source": [
    "# book value growth\n",
    "equity = (all_vars['atq'].loc[st:,cols] - all_vars['ltq'].loc[st:,cols])"
   ]
  },
  {
   "cell_type": "code",
   "execution_count": 13,
   "metadata": {},
   "outputs": [
    {
     "name": "stderr",
     "output_type": "stream",
     "text": [
      "C:\\Users\\Biao Feng\\Anaconda3\\lib\\site-packages\\ipykernel_launcher.py:1: RuntimeWarning: invalid value encountered in log\n",
      "  \"\"\"Entry point for launching an IPython kernel.\n"
     ]
    }
   ],
   "source": [
    "new_metric = np.log(1+equity.diff()/all_vars['atq'].shift(1))\n",
    "new_metric_mean = new_metric.rolling(20).mean()\n",
    "new_metric_std = new_metric.rolling(20).std()"
   ]
  },
  {
   "cell_type": "code",
   "execution_count": 14,
   "metadata": {},
   "outputs": [
    {
     "name": "stderr",
     "output_type": "stream",
     "text": [
      "C:\\Users\\Biao Feng\\Anaconda3\\lib\\site-packages\\ipykernel_launcher.py:1: RuntimeWarning: invalid value encountered in log\n",
      "  \"\"\"Entry point for launching an IPython kernel.\n",
      "C:\\Users\\Biao Feng\\Anaconda3\\lib\\site-packages\\ipykernel_launcher.py:2: RuntimeWarning: invalid value encountered in log\n",
      "  \n"
     ]
    }
   ],
   "source": [
    "equity_chg = np.log(equity).diff().rolling(20).mean()\n",
    "equity_chg_std = np.log(equity).diff().rolling(20).std()"
   ]
  },
  {
   "cell_type": "code",
   "execution_count": 15,
   "metadata": {},
   "outputs": [
    {
     "name": "stderr",
     "output_type": "stream",
     "text": [
      "C:\\Users\\Biao Feng\\Anaconda3\\lib\\site-packages\\scipy\\stats\\_distn_infrastructure.py:1904: RuntimeWarning: invalid value encountered in greater\n",
      "  cond1 = (0 < q) & (q < 1)\n",
      "C:\\Users\\Biao Feng\\Anaconda3\\lib\\site-packages\\scipy\\stats\\_distn_infrastructure.py:1904: RuntimeWarning: invalid value encountered in less\n",
      "  cond1 = (0 < q) & (q < 1)\n"
     ]
    }
   ],
   "source": [
    "y_equity_chg = norm_rank(new_metric_mean).stack().reset_index().rename(columns={0: 'book_value growth'})"
   ]
  },
  {
   "cell_type": "code",
   "execution_count": 16,
   "metadata": {},
   "outputs": [
    {
     "name": "stderr",
     "output_type": "stream",
     "text": [
      "C:\\Users\\Biao Feng\\Anaconda3\\lib\\site-packages\\ipykernel_launcher.py:2: RuntimeWarning: invalid value encountered in log\n",
      "  \n"
     ]
    }
   ],
   "source": [
    "# book to market\n",
    "b2m = np.log(equity / mcap * 1000)\n",
    "y_b2m = norm_rank(b2m).stack().reset_index().rename(columns={0: 'book to market'})"
   ]
  },
  {
   "cell_type": "code",
   "execution_count": 17,
   "metadata": {},
   "outputs": [
    {
     "name": "stderr",
     "output_type": "stream",
     "text": [
      "100%|██████████████████████████████████████████████████████████████████████████████████| 60/60 [00:25<00:00,  2.40it/s]\n"
     ]
    }
   ],
   "source": [
    "for c in tqdm.tqdm(d.cols_q):\n",
    "    # 5 year mean\n",
    "    if c != 'atq': \n",
    "        tt = (all_vars[c] / all_vars['atq']).loc[st:,cols]\n",
    "    else:    \n",
    "        tt = np.log(all_vars[c].loc[st:,cols]).diff()\n",
    "    \n",
    "    all_vars['x_mean_' + c] = norm_rank(tt.rolling(20, min_periods=16).mean()).stack().reset_index().rename(columns={0: c+'_mean'})\n",
    "    \n",
    "    # 5 year std\n",
    "    all_vars['x_std_' + c] = tt.rolling(20, min_periods=16).std().stack().reset_index().rename(columns={0: c+'_std'})"
   ]
  },
  {
   "cell_type": "code",
   "execution_count": 18,
   "metadata": {},
   "outputs": [
    {
     "name": "stderr",
     "output_type": "stream",
     "text": [
      "100%|██████████████████████████████████████████████████████████████████████████████████| 60/60 [00:03<00:00, 16.99it/s]\n",
      "100%|██████████████████████████████████████████████████████████████████████████████████| 60/60 [00:04<00:00, 13.49it/s]\n"
     ]
    }
   ],
   "source": [
    "th = 0.5\n",
    "regressors = []\n",
    "for c in tqdm.tqdm(d.cols_q):\n",
    "    tt = all_vars['x_mean_' + c].pivot(index='datadate', columns='gvkey', values=all_vars['x_mean_' + c].columns[-1])\n",
    "    if ((tt * in_univ).count(1)/in_univ.count(1))['1982':].quantile(0.5) > th:\n",
    "        regressors.append('x_mean_' + c)\n",
    "\n",
    "for c in tqdm.tqdm(d.cols_q):\n",
    "    tt = all_vars['x_std_' + c].pivot(index='datadate', columns='gvkey', values=all_vars['x_std_' + c].columns[-1])\n",
    "    if ((tt * in_univ).count(1)/in_univ.count(1))['1982':].quantile(0.5) > th:\n",
    "        regressors.append('x_std_' + c)"
   ]
  },
  {
   "cell_type": "code",
   "execution_count": 19,
   "metadata": {},
   "outputs": [],
   "source": [
    "reg_panel = pd.merge(y_equity_chg ,y_b2m,on=['gvkey', 'datadate'], how ='inner')\n",
    "for i in regressors:\n",
    "    if 'mean' in i:\n",
    "        all_vars[i] = all_vars[i].fillna(0)\n",
    "    elif 'std' in i:\n",
    "        all_vars[i]= all_vars[i].fillna(all_vars[i].mean())\n",
    "    reg_panel = pd.merge(reg_panel, all_vars[i], on=['gvkey', 'datadate'], how ='inner')"
   ]
  },
  {
   "cell_type": "code",
   "execution_count": 23,
   "metadata": {},
   "outputs": [
    {
     "ename": "AttributeError",
     "evalue": "'Index' object has no attribute 'count'",
     "output_type": "error",
     "traceback": [
      "\u001b[1;31m---------------------------------------------------------------------------\u001b[0m",
      "\u001b[1;31mAttributeError\u001b[0m                            Traceback (most recent call last)",
      "\u001b[1;32m<ipython-input-23-03a4f3f41fb6>\u001b[0m in \u001b[0;36m<module>\u001b[1;34m\u001b[0m\n\u001b[1;32m----> 1\u001b[1;33m \u001b[0mreg_panel\u001b[0m\u001b[1;33m.\u001b[0m\u001b[0mcolumns\u001b[0m\u001b[1;33m.\u001b[0m\u001b[0mcount\u001b[0m\u001b[1;33m\u001b[0m\u001b[1;33m\u001b[0m\u001b[0m\n\u001b[0m",
      "\u001b[1;31mAttributeError\u001b[0m: 'Index' object has no attribute 'count'"
     ]
    }
   ],
   "source": [
    "reg_panel.columns.count"
   ]
  },
  {
   "cell_type": "code",
   "execution_count": null,
   "metadata": {},
   "outputs": [],
   "source": [
    "from sklearn.linear_model import Lasso\n",
    "lasso = Lasso(alpha=0.06)"
   ]
  },
  {
   "cell_type": "code",
   "execution_count": 21,
   "metadata": {},
   "outputs": [],
   "source": [
    "from sklearn.model_selection import train_test_split\n",
    "X = reg_panel.iloc[:, 4:].values\n",
    "y = reg_panel['book_value growth'].values\n",
    "X_train, X_test, y_train, y_test = train_test_split(\n",
    "    X, y, test_size=0.2, random_state=42)"
   ]
  },
  {
   "cell_type": "code",
   "execution_count": 11,
   "metadata": {},
   "outputs": [
    {
     "name": "stderr",
     "output_type": "stream",
     "text": [
      "C:\\Users\\Biao Feng\\Anaconda3\\lib\\site-packages\\IPython\\core\\interactiveshell.py:3267: DtypeWarning: Columns (9,49) have mixed types. Specify dtype option on import or set low_memory=False.\n",
      "  exec(code_obj, self.user_global_ns, self.user_ns)\n",
      "C:\\Users\\Biao Feng\\Anaconda3\\lib\\site-packages\\pandas\\core\\indexing.py:543: SettingWithCopyWarning: \n",
      "A value is trying to be set on a copy of a slice from a DataFrame.\n",
      "Try using .loc[row_indexer,col_indexer] = value instead\n",
      "\n",
      "See the caveats in the documentation: http://pandas.pydata.org/pandas-docs/stable/indexing.html#indexing-view-versus-copy\n",
      "  self.obj[item] = s\n",
      "100%|██████████████████████████████████████████████████████████████████████████████████| 60/60 [00:33<00:00,  1.79it/s]\n"
     ]
    },
    {
     "ename": "NameError",
     "evalue": "in_universe does not exist",
     "output_type": "error",
     "traceback": [
      "\u001b[1;31m---------------------------------------------------------------------------\u001b[0m",
      "\u001b[1;31mNameError\u001b[0m                                 Traceback (most recent call last)",
      "\u001b[1;32m<ipython-input-11-e4daa7407f24>\u001b[0m in \u001b[0;36m<module>\u001b[1;34m\u001b[0m\n\u001b[0;32m     12\u001b[0m \u001b[1;31m#make example by industry 11\u001b[0m\u001b[1;33m\u001b[0m\u001b[1;33m\u001b[0m\u001b[1;33m\u001b[0m\u001b[0m\n\u001b[0;32m     13\u001b[0m \u001b[0mindustry\u001b[0m \u001b[1;33m=\u001b[0m \u001b[1;34m'i1'\u001b[0m\u001b[1;33m\u001b[0m\u001b[1;33m\u001b[0m\u001b[0m\n\u001b[1;32m---> 14\u001b[1;33m \u001b[0min_universe18\u001b[0m \u001b[1;33m=\u001b[0m \u001b[0md18\u001b[0m\u001b[1;33m.\u001b[0m\u001b[0mget_time_series\u001b[0m\u001b[1;33m(\u001b[0m\u001b[0md18\u001b[0m\u001b[1;33m.\u001b[0m\u001b[0mmerged_table\u001b[0m\u001b[1;33m[\u001b[0m\u001b[0md18\u001b[0m\u001b[1;33m.\u001b[0m\u001b[0mmerged_table\u001b[0m\u001b[1;33m[\u001b[0m\u001b[0mindustry\u001b[0m\u001b[1;33m]\u001b[0m\u001b[1;33m==\u001b[0m\u001b[1;36m1\u001b[0m\u001b[1;33m]\u001b[0m\u001b[1;33m,\u001b[0m \u001b[1;34m'in_universe'\u001b[0m\u001b[1;33m)\u001b[0m\u001b[1;33m\u001b[0m\u001b[1;33m\u001b[0m\u001b[0m\n\u001b[0m\u001b[0;32m     15\u001b[0m \u001b[0min_univ18\u001b[0m \u001b[1;33m=\u001b[0m \u001b[0min_universe18\u001b[0m\u001b[1;33m[\u001b[0m\u001b[0mst\u001b[0m\u001b[1;33m:\u001b[0m\u001b[1;33m]\u001b[0m\u001b[1;33m.\u001b[0m\u001b[0mfillna\u001b[0m\u001b[1;33m(\u001b[0m\u001b[0mmethod\u001b[0m\u001b[1;33m=\u001b[0m\u001b[1;34m'ffill'\u001b[0m\u001b[1;33m,\u001b[0m \u001b[0mlimit\u001b[0m\u001b[1;33m=\u001b[0m\u001b[1;36m3\u001b[0m\u001b[1;33m)\u001b[0m\u001b[1;33m\u001b[0m\u001b[1;33m\u001b[0m\u001b[0m\n\u001b[0;32m     16\u001b[0m \u001b[0mcols18\u001b[0m \u001b[1;33m=\u001b[0m \u001b[0min_univ18\u001b[0m\u001b[1;33m.\u001b[0m\u001b[0mcolumns\u001b[0m\u001b[1;33m\u001b[0m\u001b[1;33m\u001b[0m\u001b[0m\n",
      "\u001b[1;32m~\\source\\Anaconda3\\practicum\\DataLoader18.py\u001b[0m in \u001b[0;36mget_time_series\u001b[1;34m(df, col, icol)\u001b[0m\n\u001b[0;32m    213\u001b[0m     \u001b[1;32mdef\u001b[0m \u001b[0mget_time_series\u001b[0m\u001b[1;33m(\u001b[0m\u001b[0mdf\u001b[0m\u001b[1;33m,\u001b[0m \u001b[0mcol\u001b[0m\u001b[1;33m,\u001b[0m\u001b[0micol\u001b[0m\u001b[1;33m=\u001b[0m\u001b[1;34m'datadate'\u001b[0m\u001b[1;33m)\u001b[0m\u001b[1;33m:\u001b[0m\u001b[1;33m\u001b[0m\u001b[1;33m\u001b[0m\u001b[0m\n\u001b[0;32m    214\u001b[0m         \u001b[1;32mif\u001b[0m \u001b[0mcol\u001b[0m \u001b[1;32mnot\u001b[0m \u001b[1;32min\u001b[0m \u001b[0mdf\u001b[0m\u001b[1;33m.\u001b[0m\u001b[0mcolumns\u001b[0m\u001b[1;33m:\u001b[0m\u001b[1;33m\u001b[0m\u001b[1;33m\u001b[0m\u001b[0m\n\u001b[1;32m--> 215\u001b[1;33m             \u001b[1;32mraise\u001b[0m \u001b[0mNameError\u001b[0m\u001b[1;33m(\u001b[0m\u001b[1;34m\"{col} does not exist\"\u001b[0m\u001b[1;33m.\u001b[0m\u001b[0mformat\u001b[0m\u001b[1;33m(\u001b[0m\u001b[0mcol\u001b[0m\u001b[1;33m=\u001b[0m\u001b[0mcol\u001b[0m\u001b[1;33m)\u001b[0m\u001b[1;33m)\u001b[0m\u001b[1;33m\u001b[0m\u001b[1;33m\u001b[0m\u001b[0m\n\u001b[0m\u001b[0;32m    216\u001b[0m \u001b[1;33m\u001b[0m\u001b[0m\n\u001b[0;32m    217\u001b[0m         \u001b[0mtarget_data\u001b[0m \u001b[1;33m=\u001b[0m  \u001b[0mdf\u001b[0m\u001b[1;33m.\u001b[0m\u001b[0mloc\u001b[0m\u001b[1;33m[\u001b[0m\u001b[1;33m:\u001b[0m\u001b[1;33m,\u001b[0m \u001b[1;33m[\u001b[0m\u001b[0micol\u001b[0m\u001b[1;33m,\u001b[0m \u001b[1;34m'gvkey'\u001b[0m\u001b[1;33m,\u001b[0m \u001b[0mcol\u001b[0m\u001b[1;33m]\u001b[0m\u001b[1;33m]\u001b[0m\u001b[1;33m\u001b[0m\u001b[1;33m\u001b[0m\u001b[0m\n",
      "\u001b[1;31mNameError\u001b[0m: in_universe does not exist"
     ]
    }
   ],
   "source": [
    "loc = 'C:/Users/Biao Feng/source/Anaconda3/practicum/'\n",
    "#get test set\n",
    "from DataLoader18 import DataLoader as DL18\n",
    "d18 = DL18(loc)\n",
    "all_vars18 = {}\n",
    "for i in tqdm.tqdm(range(0,len(d18.cols_q))):\n",
    "    all_vars18[d18.cols_q[i]] = d18.get_time_series(d18.merged_table, d18.cols_q[i], icol='datadate')\n",
    "mcap = d18.get_time_series(d18.merged_table, 'mcap')\n",
    "ret = d18.get_time_series(d18.merged_table, 'RET')\n",
    "## if data's mcap is bigger than breakpoint\n",
    "d18.merged_table.loc[:, 'in_universe']=[np.nan if pd.isnull(m) or pd.isnull(b) or m < b else 1 \n",
    "                                      for m,b in zip(d18.merged_table.mcap.values, d18.merged_table.breakpt.values)]\n",
    "# use data only after 2001\n",
    "st = '2001'\n",
    "#make example by industry 11\n",
    "industry = 'i1'\n",
    "in_universe18 = d18.get_time_series(d18.merged_table[d18.merged_table[industry]==1], 'in_universe')\n",
    "in_univ18 = in_universe18[st:].fillna(method='ffill', limit=3)\n",
    "cols18 = in_univ18.columns\n",
    "# book value growth\n",
    "equity18 = (all_vars18['atq'].loc[st:,cols18] - all_vars18['ltq'].loc[st:,cols18])\n",
    "new_metric18 = np.log(1+equity18.diff()/all_vars18['atq'].shift(1))\n",
    "new_metric_mean18 = new_metric18.rolling(20).mean()\n",
    "new_metric_std18 = new_metric18.rolling(20).std()\n",
    "y_equity_chg18 = norm_rank(new_metric_mean18).stack().reset_index().rename(columns={0: 'book_value growth'})\n",
    "# book to market\n",
    "b2m18 = np.log(equity18 / mcap * 1000)\n",
    "y_b2m18 = norm_rank(b2m18).stack().reset_index().rename(columns={0: 'book to market'})\n",
    "reg_panel = pd.merge(y_equity_chg18 ,y_b2m18,on=['gvkey', 'datadate'], how ='inner')"
   ]
  },
  {
   "cell_type": "code",
   "execution_count": 15,
   "metadata": {},
   "outputs": [
    {
     "name": "stderr",
     "output_type": "stream",
     "text": [
      "100%|██████████████████████████████████████████████████████████████████████████████████| 60/60 [00:33<00:00,  1.79it/s]\n",
      "C:\\Users\\Biao Feng\\Anaconda3\\lib\\site-packages\\scipy\\stats\\_distn_infrastructure.py:1904: RuntimeWarning: invalid value encountered in greater\n",
      "  cond1 = (0 < q) & (q < 1)\n",
      "C:\\Users\\Biao Feng\\Anaconda3\\lib\\site-packages\\scipy\\stats\\_distn_infrastructure.py:1904: RuntimeWarning: invalid value encountered in less\n",
      "  cond1 = (0 < q) & (q < 1)\n",
      "C:\\Users\\Biao Feng\\Anaconda3\\lib\\site-packages\\ipykernel_launcher.py:23: RuntimeWarning: invalid value encountered in log\n"
     ]
    }
   ],
   "source": [
    "all_vars18 = {}\n",
    "for i in tqdm.tqdm(range(0,len(d18.cols_q))):\n",
    "    all_vars18[d18.cols_q[i]] = d18.get_time_series(d18.merged_table, d18.cols_q[i], icol='datadate')\n",
    "mcap = d18.get_time_series(d18.merged_table, 'mcap')\n",
    "ret = d18.get_time_series(d18.merged_table, 'RET')\n",
    "## if data's mcap is bigger than breakpoint\n",
    "d18.merged_table.loc[:, 'in_universe']=[np.nan if pd.isnull(m) or pd.isnull(b) or m < b else 1 \n",
    "                                      for m,b in zip(d18.merged_table.mcap.values, d18.merged_table.breakpt.values)]\n",
    "# use data only after 2001\n",
    "st = '2001'\n",
    "#make example by industry 11\n",
    "industry = 'i1'\n",
    "in_universe18 = d18.get_time_series(d18.merged_table[d18.merged_table[industry]==1], 'in_universe')\n",
    "in_univ18 = in_universe18[st:].fillna(method='ffill', limit=3)\n",
    "cols18 = in_univ18.columns\n",
    "# book value growth\n",
    "equity18 = (all_vars18['atq'].loc[st:,cols18] - all_vars18['ltq'].loc[st:,cols18])\n",
    "new_metric18 = np.log(1+equity18.diff()/all_vars18['atq'].shift(1))\n",
    "new_metric_mean18 = new_metric18.rolling(20).mean()\n",
    "new_metric_std18 = new_metric18.rolling(20).std()\n",
    "y_equity_chg18 = norm_rank(new_metric_mean18).stack().reset_index().rename(columns={0: 'book_value growth'})\n",
    "# book to market\n",
    "b2m18 = np.log(equity18 / mcap * 1000)\n",
    "y_b2m18 = norm_rank(b2m18).stack().reset_index().rename(columns={0: 'book to market'})\n",
    "reg_panel = pd.merge(y_equity_chg18 ,y_b2m18,on=['gvkey', 'datadate'], how ='inner')\n",
    "y_test = y_b2m18"
   ]
  },
  {
   "cell_type": "code",
   "execution_count": 16,
   "metadata": {},
   "outputs": [
    {
     "name": "stdout",
     "output_type": "stream",
     "text": [
      "       datadate   gvkey  book to market\n",
      "0    2001-09-30    1380        0.664287\n",
      "1    2001-09-30    1661       -0.056301\n",
      "2    2001-09-30    1678        0.609274\n",
      "3    2001-09-30    1860        0.146826\n",
      "4    2001-09-30    1976       -1.580473\n",
      "5    2001-09-30    2270        0.261776\n",
      "6    2001-09-30    2437        0.238560\n",
      "7    2001-09-30    3107        2.227302\n",
      "8    2001-09-30    3153       -1.224997\n",
      "9    2001-09-30    4367       -0.285133\n",
      "10   2001-09-30    4844        0.721364\n",
      "11   2001-09-30    5187       -0.238560\n",
      "12   2001-09-30    5439       -0.692547\n",
      "13   2001-09-30    5560        0.215470\n",
      "14   2001-09-30    5581        0.529986\n",
      "15   2001-09-30    5686       -2.019497\n",
      "16   2001-09-30    6403       -0.556027\n",
      "17   2001-09-30    6788        1.135388\n",
      "18   2001-09-30    6936        1.441456\n",
      "19   2001-09-30    7017        1.053989\n",
      "20   2001-09-30    7422        1.663037\n",
      "21   2001-09-30    7466       -1.507366\n",
      "22   2001-09-30    7620       -0.843235\n",
      "23   2001-09-30    7881       -1.273684\n",
      "24   2001-09-30    7912       -0.215470\n",
      "25   2001-09-30    7938        1.758626\n",
      "26   2001-09-30    8049       -0.943428\n",
      "27   2001-09-30    8068        0.811660\n",
      "28   2001-09-30    8079       -0.146826\n",
      "29   2001-09-30    8341       -0.124112\n",
      "...         ...     ...             ...\n",
      "7810 2018-12-31  120093        1.008286\n",
      "7811 2018-12-31  122212        1.903394\n",
      "7812 2018-12-31  137024        1.179382\n",
      "7813 2018-12-31  142337       -2.688029\n",
      "7814 2018-12-31  142460       -0.110398\n",
      "7815 2018-12-31  146659       -0.551455\n",
      "7816 2018-12-31  150699       -0.793669\n",
      "7817 2018-12-31  154357        1.133694\n",
      "7818 2018-12-31  155393        0.761209\n",
      "7819 2018-12-31  157153       -1.227490\n",
      "7820 2018-12-31  162459        0.729481\n",
      "7821 2018-12-31  164046        0.184623\n",
      "7822 2018-12-31  170750       -0.523438\n",
      "7823 2018-12-31  174169        1.684555\n",
      "7824 2018-12-31  175503       -0.698424\n",
      "7825 2018-12-31  176840        0.388464\n",
      "7826 2018-12-31  176899        1.522362\n",
      "7827 2018-12-31  177884       -0.336393\n",
      "7828 2018-12-31  178798        1.784042\n",
      "7829 2018-12-31  178851        0.826927\n",
      "7830 2018-12-31  178870        0.285159\n",
      "7831 2018-12-31  179843        0.135058\n",
      "7832 2018-12-31  180635        2.270896\n",
      "7833 2018-12-31  181989        0.608755\n",
      "7834 2018-12-31  184442        0.932317\n",
      "7835 2018-12-31  186336        0.414865\n",
      "7836 2018-12-31  187128       -0.362314\n",
      "7837 2018-12-31  187698        0.667982\n",
      "7838 2018-12-31  187812       -0.085801\n",
      "7839 2018-12-31  187961        0.110398\n",
      "\n",
      "[7840 rows x 3 columns]\n"
     ]
    }
   ],
   "source": [
    "print(y_test)"
   ]
  },
  {
   "cell_type": "code",
   "execution_count": 10,
   "metadata": {},
   "outputs": [
    {
     "name": "stdout",
     "output_type": "stream",
     "text": [
      "Index(['gvkey', 'conm', 'tic', 'cusip', 'cik', 'sic', 'naics', 'LINKPRIM',\n",
      "       'LIID', 'LINKTYPE', 'LPERMNO', 'LPERMCO', 'LINKDT', 'LINKENDDT', 'EIN',\n",
      "       'COSTAT', 'DLRSN', 'PRIUSA', 'PRICAN', 'PRIROW', 'IDBFLAG', 'FIC',\n",
      "       'LOC', 'INCORP', 'STATE', 'COUNTY', 'CITY', 'CONML', 'WEBURL', 'PHONE',\n",
      "       'FAX', 'ADD1', 'ADD2', 'ADD3', 'ADD4', 'ADDZIP', 'BUSDESC', 'ipodate',\n",
      "       'dldte', 'STKO', 'FYRC', 'GSECTOR', 'GGROUP', 'GIND', 'GSUBIND',\n",
      "       'SPCINDCD', 'SPCSECCD'],\n",
      "      dtype='object')\n"
     ]
    }
   ],
   "source": [
    "a =pd.read_csv('{loc}link table 2001-2018_csv.zip'.format(loc=loc))\n",
    "print(a.columns)"
   ]
  },
  {
   "cell_type": "code",
   "execution_count": 56,
   "metadata": {},
   "outputs": [
    {
     "name": "stdout",
     "output_type": "stream",
     "text": [
      "[-0.00000000e+00  3.91139216e-02  0.00000000e+00  6.61830966e-01\n",
      "  0.00000000e+00  3.09796579e-02  1.01927639e-03  0.00000000e+00\n",
      " -0.00000000e+00 -0.00000000e+00 -0.00000000e+00 -0.00000000e+00\n",
      " -0.00000000e+00 -0.00000000e+00  4.11148044e-02  0.00000000e+00\n",
      " -0.00000000e+00  0.00000000e+00 -0.00000000e+00  0.00000000e+00\n",
      " -3.13322605e-02  2.62819740e-01 -0.00000000e+00  0.00000000e+00\n",
      " -0.00000000e+00  0.00000000e+00 -0.00000000e+00  0.00000000e+00\n",
      " -0.00000000e+00 -0.00000000e+00  0.00000000e+00  0.00000000e+00\n",
      " -0.00000000e+00 -0.00000000e+00 -0.00000000e+00  0.00000000e+00\n",
      "  0.00000000e+00 -0.00000000e+00  0.00000000e+00 -0.00000000e+00\n",
      "  0.00000000e+00  0.00000000e+00  0.00000000e+00  0.00000000e+00\n",
      " -0.00000000e+00  0.00000000e+00  2.36898169e-06 -0.00000000e+00\n",
      "  0.00000000e+00 -0.00000000e+00 -0.00000000e+00 -0.00000000e+00\n",
      " -0.00000000e+00 -0.00000000e+00  0.00000000e+00  0.00000000e+00\n",
      " -0.00000000e+00  0.00000000e+00  0.00000000e+00 -0.00000000e+00\n",
      " -0.00000000e+00 -0.00000000e+00  0.00000000e+00 -0.00000000e+00\n",
      "  0.00000000e+00 -0.00000000e+00 -0.00000000e+00  0.00000000e+00\n",
      " -0.00000000e+00 -0.00000000e+00  0.00000000e+00  0.00000000e+00\n",
      " -0.00000000e+00 -0.00000000e+00 -0.00000000e+00 -0.00000000e+00\n",
      "  0.00000000e+00  0.00000000e+00  0.00000000e+00 -0.00000000e+00]\n"
     ]
    }
   ],
   "source": [
    "lasso.fit(X_train, y_train)\n",
    "\n",
    "# Compute and print the coefficients\n",
    "lasso_coef = lasso.coef_\n",
    "print(lasso_coef)"
   ]
  },
  {
   "cell_type": "code",
   "execution_count": 57,
   "metadata": {},
   "outputs": [
    {
     "data": {
      "image/png": "[encoded data removed]",
      "text/plain": [
       "<Figure size 1440x648 with 1 Axes>"
      ]
     },
     "metadata": {
      "needs_background": "light"
     },
     "output_type": "display_data"
    }
   ],
   "source": [
    "# Plot the coefficients\n",
    "figsize = (20,9)\n",
    "plt.figure(figsize=figsize)\n",
    "plt.plot(range(len(reg_panel.iloc[:, 4:].columns)), lasso_coef)\n",
    "plt.xticks(range(len(reg_panel.iloc[:, 4:].columns)), reg_panel.iloc[:, 4:].columns.values, rotation=60)\n",
    "plt.margins(0.02)\n",
    "plt.show()"
   ]
  },
  {
   "cell_type": "code",
   "execution_count": 58,
   "metadata": {},
   "outputs": [],
   "source": [
    "y_train_pred = lasso.predict(X_train)\n",
    "y_test_pred = lasso.predict(X_test)"
   ]
  },
  {
   "cell_type": "code",
   "execution_count": 59,
   "metadata": {
    "scrolled": true
   },
   "outputs": [
    {
     "data": {
      "text/plain": [
       "<matplotlib.collections.PathCollection at 0x23014295b70>"
      ]
     },
     "execution_count": 59,
     "metadata": {},
     "output_type": "execute_result"
    },
    {
     "data": {
      "image/png": "[encoded data removed]",
      "text/plain": [
       "<Figure size 432x288 with 1 Axes>"
      ]
     },
     "metadata": {
      "needs_background": "light"
     },
     "output_type": "display_data"
    }
   ],
   "source": [
    "plt.scatter(y_test,y_test_pred)"
   ]
  },
  {
   "cell_type": "code",
   "execution_count": 60,
   "metadata": {},
   "outputs": [
    {
     "name": "stdout",
     "output_type": "stream",
     "text": [
      "Mean squared error: 0.21\n",
      "Variance score: 0.74\n"
     ]
    }
   ],
   "source": [
    "from sklearn.metrics import mean_squared_error, r2_score\n",
    "print(\"Mean squared error: %.2f\"\n",
    "      % mean_squared_error(y_test, y_test_pred))\n",
    "\n",
    "# Explained variance score: 1 is perfect prediction\n",
    "print('Variance score: %.2f' % r2_score(y_test, y_test_pred))"
   ]
  },
  {
   "cell_type": "code",
   "execution_count": 61,
   "metadata": {},
   "outputs": [
    {
     "data": {
      "text/html": [
       "<div>\n",
       "<style scoped>\n",
       "    .dataframe tbody tr th:only-of-type {\n",
       "        vertical-align: middle;\n",
       "    }\n",
       "\n",
       "    .dataframe tbody tr th {\n",
       "        vertical-align: top;\n",
       "    }\n",
       "\n",
       "    .dataframe thead th {\n",
       "        text-align: right;\n",
       "    }\n",
       "</style>\n",
       "<table border=\"1\" class=\"dataframe\">\n",
       "  <thead>\n",
       "    <tr style=\"text-align: right;\">\n",
       "      <th></th>\n",
       "      <th>61701</th>\n",
       "      <th>61701</th>\n",
       "    </tr>\n",
       "    <tr>\n",
       "      <th>datadate</th>\n",
       "      <th></th>\n",
       "      <th></th>\n",
       "    </tr>\n",
       "  </thead>\n",
       "  <tbody>\n",
       "    <tr>\n",
       "      <th>1996-09-30</th>\n",
       "      <td>4.375</td>\n",
       "      <td>533.081</td>\n",
       "    </tr>\n",
       "    <tr>\n",
       "      <th>1996-12-31</th>\n",
       "      <td>6.835</td>\n",
       "      <td>574.440</td>\n",
       "    </tr>\n",
       "    <tr>\n",
       "      <th>1997-03-31</th>\n",
       "      <td>2.676</td>\n",
       "      <td>586.192</td>\n",
       "    </tr>\n",
       "    <tr>\n",
       "      <th>1997-06-30</th>\n",
       "      <td>4.410</td>\n",
       "      <td>592.788</td>\n",
       "    </tr>\n",
       "    <tr>\n",
       "      <th>1997-09-30</th>\n",
       "      <td>8.284</td>\n",
       "      <td>634.582</td>\n",
       "    </tr>\n",
       "    <tr>\n",
       "      <th>1997-12-31</th>\n",
       "      <td>12.066</td>\n",
       "      <td>1539.740</td>\n",
       "    </tr>\n",
       "    <tr>\n",
       "      <th>1998-03-31</th>\n",
       "      <td>-4.287</td>\n",
       "      <td>1569.511</td>\n",
       "    </tr>\n",
       "    <tr>\n",
       "      <th>1998-12-31</th>\n",
       "      <td>1.176</td>\n",
       "      <td>0.043</td>\n",
       "    </tr>\n",
       "    <tr>\n",
       "      <th>1999-03-31</th>\n",
       "      <td>1.528</td>\n",
       "      <td>111.406</td>\n",
       "    </tr>\n",
       "    <tr>\n",
       "      <th>1999-06-30</th>\n",
       "      <td>1.116</td>\n",
       "      <td>105.522</td>\n",
       "    </tr>\n",
       "    <tr>\n",
       "      <th>1999-09-30</th>\n",
       "      <td>4.501</td>\n",
       "      <td>112.042</td>\n",
       "    </tr>\n",
       "    <tr>\n",
       "      <th>1999-12-31</th>\n",
       "      <td>1.921</td>\n",
       "      <td>119.945</td>\n",
       "    </tr>\n",
       "    <tr>\n",
       "      <th>2000-03-31</th>\n",
       "      <td>0.670</td>\n",
       "      <td>117.071</td>\n",
       "    </tr>\n",
       "  </tbody>\n",
       "</table>\n",
       "</div>"
      ],
      "text/plain": [
       "             61701     61701\n",
       "datadate                    \n",
       "1996-09-30   4.375   533.081\n",
       "1996-12-31   6.835   574.440\n",
       "1997-03-31   2.676   586.192\n",
       "1997-06-30   4.410   592.788\n",
       "1997-09-30   8.284   634.582\n",
       "1997-12-31  12.066  1539.740\n",
       "1998-03-31  -4.287  1569.511\n",
       "1998-12-31   1.176     0.043\n",
       "1999-03-31   1.528   111.406\n",
       "1999-06-30   1.116   105.522\n",
       "1999-09-30   4.501   112.042\n",
       "1999-12-31   1.921   119.945\n",
       "2000-03-31   0.670   117.071"
      ]
     },
     "execution_count": 61,
     "metadata": {},
     "output_type": "execute_result"
    }
   ],
   "source": [
    "# bad example\n",
    "pd.concat([all_vars['niq'].loc[:, 61701], all_vars['atq'].shift(1).loc[:, 61701]], axis=1).dropna()"
   ]
  },
  {
   "cell_type": "code",
   "execution_count": 62,
   "metadata": {},
   "outputs": [],
   "source": [
    "def remove_extreme_values(df, limit=4):\n",
    "    limit = 8\n",
    "\n",
    "    df_med = df.quantile(0.5, 1)\n",
    "    df_med_dev = np.abs(df.sub(df_med, 0)).quantile(0.5, 1)\n",
    "\n",
    "    up = df.sub(df_med.add(df_med_dev * limit, 0), 0)\n",
    "    dn = df.sub(df_med.sub(df_med_dev * limit, 0), 0)\n",
    "    \n",
    "    return df[(up<0) & (dn>0)]"
   ]
  },
  {
   "cell_type": "code",
   "execution_count": 63,
   "metadata": {},
   "outputs": [
    {
     "data": {
      "image/png": "[encoded data removed]",
      "text/plain": [
       "<Figure size 432x288 with 1 Axes>"
      ]
     },
     "metadata": {
      "needs_background": "light"
     },
     "output_type": "display_data"
    }
   ],
   "source": [
    "_=plt.hist(remove_extreme_values(all_vars['ltq']/all_vars['atq'].shift(1)).stack().values, bins=20)"
   ]
  },
  {
   "cell_type": "code",
   "execution_count": 64,
   "metadata": {},
   "outputs": [
    {
     "data": {
      "image/png": "[encoded data removed]",
      "text/plain": [
       "<Figure size 432x288 with 1 Axes>"
      ]
     },
     "metadata": {
      "needs_background": "light"
     },
     "output_type": "display_data"
    }
   ],
   "source": [
    "_=plt.hist(remove_extreme_values(all_vars['niq']/all_vars['atq'].shift(1)).stack().values,bins=20)"
   ]
  },
  {
   "cell_type": "code",
   "execution_count": 19,
   "metadata": {},
   "outputs": [
    {
     "name": "stdout",
     "output_type": "stream",
     "text": [
      "0    NaN\n",
      "1    NaN\n",
      "2    NaN\n",
      "3    1.0\n",
      "4    2.0\n",
      "5    3.0\n",
      "6    4.0\n",
      "dtype: float64\n"
     ]
    }
   ],
   "source": [
    "import pandas as pd\n",
    "a = pd.Series([1,2,3,4,5,6,7])\n",
    "print(a.shift(3))"
   ]
  }
 ],
 "metadata": {
  "kernelspec": {
   "display_name": "Python 3",
   "language": "python",
   "name": "python3"
  },
  "language_info": {
   "codemirror_mode": {
    "name": "ipython",
    "version": 3
   },
   "file_extension": ".py",
   "mimetype": "text/x-python",
   "name": "python",
   "nbconvert_exporter": "python",
   "pygments_lexer": "ipython3",
   "version": "3.7.1"
  }
 },
 "nbformat": 4,
 "nbformat_minor": 2
}
