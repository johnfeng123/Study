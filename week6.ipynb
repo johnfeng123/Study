{
 "cells": [
  {
   "cell_type": "code",
   "execution_count": 2,
   "metadata": {},
   "outputs": [],
   "source": [
    "import datetime as dt\n",
    "import pandas as pd\n",
    "import numpy as np\n",
    "from calendar import monthrange"
   ]
  },
  {
   "cell_type": "code",
   "execution_count": 5,
   "metadata": {},
   "outputs": [],
   "source": [
    "now = datetime.datetime.now()"
   ]
  },
  {
   "cell_type": "code",
   "execution_count": 14,
   "metadata": {},
   "outputs": [],
   "source": [
    "link_dat = pd.read_csv('link table 1962-2001_csv.zip',\n",
    "                         parse_dates=['datadate'],\n",
    "                        usecols=['datadate', 'GVKEY', 'LPERMNO', 'conm'])"
   ]
  },
  {
   "cell_type": "code",
   "execution_count": 13,
   "metadata": {},
   "outputs": [
    {
     "name": "stderr",
     "output_type": "stream",
     "text": [
      "C:\\Users\\Biao Feng\\Anaconda3\\lib\\site-packages\\IPython\\core\\interactiveshell.py:3020: DtypeWarning: Columns (9) have mixed types. Specify dtype option on import or set low_memory=False.\n",
      "  interactivity=interactivity, compiler=compiler, result=result)\n"
     ]
    }
   ],
   "source": [
    "crsp_dat = pd.read_csv('crsp returns all 1962-2001_csv.zip',\n",
    "                   parse_dates=['date'],\n",
    "                       usecols=['date', 'PERMNO', 'PRC', 'RET', 'SHROUT',\n",
    "                                'SHRCD', 'EXCHCD', 'PRIMEXCH','DISTCD','SHRCLS'])"
   ]
  },
  {
   "cell_type": "code",
   "execution_count": 3,
   "metadata": {},
   "outputs": [
    {
     "name": "stderr",
     "output_type": "stream",
     "text": [
      "C:\\Users\\Biao Feng\\Anaconda3\\lib\\site-packages\\IPython\\core\\interactiveshell.py:3020: DtypeWarning: Columns (35) have mixed types. Specify dtype option on import or set low_memory=False.\n",
      "  interactivity=interactivity, compiler=compiler, result=result)\n"
     ]
    }
   ],
   "source": [
    "compustat_dat = pd.read_csv('compustat_fundamentals qtr 1962-2001_csv.zip', header= 0 ,\n",
    "                          parse_dates=['datadate'],\n",
    "                          usecols=['datadate', 'gvkey', 'exchg', 'fyearq', \n",
    "                                   'datafqtr','prccq','atq','ltq','niq','fyr','rdq'])"
   ]
  },
  {
   "cell_type": "code",
   "execution_count": 4,
   "metadata": {},
   "outputs": [
    {
     "name": "stderr",
     "output_type": "stream",
     "text": [
      "C:\\Users\\Biao Feng\\Anaconda3\\lib\\site-packages\\IPython\\core\\interactiveshell.py:3020: DtypeWarning: Columns (10,13,17,18,20,25,26,30,33,34,35,647,648,649,650,654,656,657,664,668,669,674,675,677,679) have mixed types. Specify dtype option on import or set low_memory=False.\n",
      "  interactivity=interactivity, compiler=compiler, result=result)\n"
     ]
    }
   ],
   "source": [
    "compustat = pd.read_csv('compustat_fundamentals qtr 1962-2001_csv.zip',\n",
    "                          parse_dates=['datadate'])"
   ]
  },
  {
   "cell_type": "code",
   "execution_count": 19,
   "metadata": {},
   "outputs": [
    {
     "name": "stderr",
     "output_type": "stream",
     "text": [
      "C:\\Users\\Biao Feng\\Anaconda3\\lib\\site-packages\\IPython\\core\\interactiveshell.py:3020: DtypeWarning: Columns (5,6,9,18,19,38,40) have mixed types. Specify dtype option on import or set low_memory=False.\n",
      "  interactivity=interactivity, compiler=compiler, result=result)\n"
     ]
    }
   ],
   "source": [
    "crsp = pd.read_csv('crsp returns all 1962-2001_csv.zip',\n",
    "                   parse_dates=['date'])"
   ]
  },
  {
   "cell_type": "code",
   "execution_count": 20,
   "metadata": {},
   "outputs": [
    {
     "name": "stderr",
     "output_type": "stream",
     "text": [
      "C:\\Users\\Biao Feng\\Anaconda3\\lib\\site-packages\\IPython\\core\\interactiveshell.py:3020: DtypeWarning: Columns (2) have mixed types. Specify dtype option on import or set low_memory=False.\n",
      "  interactivity=interactivity, compiler=compiler, result=result)\n"
     ]
    }
   ],
   "source": [
    "link = pd.read_csv('link table 1962-2001_csv.zip')"
   ]
  },
  {
   "cell_type": "code",
   "execution_count": 1,
   "metadata": {},
   "outputs": [
    {
     "ename": "NameError",
     "evalue": "name 'crsp' is not defined",
     "output_type": "error",
     "traceback": [
      "\u001b[1;31m---------------------------------------------------------------------------\u001b[0m",
      "\u001b[1;31mNameError\u001b[0m                                 Traceback (most recent call last)",
      "\u001b[1;32m<ipython-input-1-a95917e08836>\u001b[0m in \u001b[0;36m<module>\u001b[1;34m\u001b[0m\n\u001b[1;32m----> 1\u001b[1;33m \u001b[0mcrsp\u001b[0m\u001b[1;33m.\u001b[0m\u001b[0mcolumns\u001b[0m\u001b[1;33m\u001b[0m\u001b[1;33m\u001b[0m\u001b[0m\n\u001b[0m",
      "\u001b[1;31mNameError\u001b[0m: name 'crsp' is not defined"
     ]
    }
   ],
   "source": [
    "crsp.columns"
   ]
  },
  {
   "cell_type": "code",
   "execution_count": 36,
   "metadata": {},
   "outputs": [],
   "source": [
    "# US listed companies\n",
    "exchange_codes = {\n",
    "    11: 'NYSE', 12: 'American', 14: 'Nasdaq', \n",
    "    15: 'Boston', 16: 'Chicago', 17: 'Pacific', 18: 'Philadelphia'}\n",
    "\n",
    "compustat_dat = compustat_dat[compustat_dat.exchg.isin({1,2,3})]\n",
    "\n",
    "# Common shares --> share class = 10 or 11\n",
    "crsp_dat = crsp_dat[crsp_dat.SHRCD.isin([10, 11])]"
   ]
  },
  {
   "cell_type": "code",
   "execution_count": 37,
   "metadata": {},
   "outputs": [],
   "source": [
    "import datetime\n",
    "def last_day_of_month(any_day):\n",
    "    next_month = any_day.replace(day=28) + datetime.timedelta(days=4)  # this will never fail\n",
    "    return next_month - datetime.timedelta(days=next_month.day)"
   ]
  },
  {
   "cell_type": "code",
   "execution_count": 38,
   "metadata": {},
   "outputs": [],
   "source": [
    "# add market cap column to crsp\n",
    "crsp_dat.loc[:, 'mcap'] = np.abs(crsp_dat.SHROUT * crsp_dat.PRC)\n",
    "# add the month end dates\n",
    "me_date_map = dict(zip(crsp_dat.date.unique(), [last_day_of_month(pd.to_datetime(uu)) for uu in crsp_dat.date.unique()]))\n",
    "crsp_dat.loc[:, 'me_date'] = [me_date_map[uu] for uu in crsp_dat.date.values]\n",
    "# change column names\n",
    "link_dat = link_dat.rename(columns={'GVKEY':'gvkey', 'LPERMNO':'PERMNO'})"
   ]
  },
  {
   "cell_type": "code",
   "execution_count": 39,
   "metadata": {},
   "outputs": [],
   "source": [
    "merged = pd.merge(compustat_dat, link_dat, on=['gvkey', 'datadate'])\n",
    "merged = merged.copy()"
   ]
  },
  {
   "cell_type": "code",
   "execution_count": 40,
   "metadata": {},
   "outputs": [],
   "source": [
    "merged2 = pd.merge(merged, \n",
    "                   crsp_dat[['PERMNO', 'me_date', 'mcap','DISTCD','SHRCLS']], \n",
    "                   left_on=['PERMNO', 'datadate'], \n",
    "                   right_on=['PERMNO', 'me_date'], \n",
    "                   how='left')\n",
    "merged2 = merged2.copy()"
   ]
  },
  {
   "cell_type": "code",
   "execution_count": 41,
   "metadata": {},
   "outputs": [],
   "source": [
    "full_universe = merged2.copy()\n",
    "full_universe = full_universe.sort_values(['gvkey', 'datafqtr'])"
   ]
  },
  {
   "cell_type": "code",
   "execution_count": 42,
   "metadata": {},
   "outputs": [],
   "source": [
    "date_check = full_universe[['datadate','rdq']].dropna(axis = 0, how = 'any')"
   ]
  },
  {
   "cell_type": "code",
   "execution_count": 97,
   "metadata": {},
   "outputs": [
    {
     "name": "stderr",
     "output_type": "stream",
     "text": [
      "C:\\Users\\Biao Feng\\Anaconda3\\lib\\site-packages\\ipykernel_launcher.py:1: DeprecationWarning: \n",
      ".ix is deprecated. Please use\n",
      ".loc for label based indexing or\n",
      ".iloc for positional indexing\n",
      "\n",
      "See the documentation here:\n",
      "http://pandas.pydata.org/pandas-docs/stable/indexing.html#ix-indexer-is-deprecated\n",
      "  \"\"\"Entry point for launching an IPython kernel.\n"
     ]
    }
   ],
   "source": [
    "test_time = str(data_check.ix[3,0])[:10]"
   ]
  },
  {
   "cell_type": "code",
   "execution_count": 132,
   "metadata": {},
   "outputs": [
    {
     "data": {
      "text/plain": [
       "(496386, 17)"
      ]
     },
     "execution_count": 132,
     "metadata": {},
     "output_type": "execute_result"
    }
   ],
   "source": [
    "full_universe.shape"
   ]
  },
  {
   "cell_type": "code",
   "execution_count": 131,
   "metadata": {},
   "outputs": [
    {
     "data": {
      "text/plain": [
       "(374584, 2)"
      ]
     },
     "execution_count": 131,
     "metadata": {},
     "output_type": "execute_result"
    }
   ],
   "source": [
    "date_check.shape"
   ]
  },
  {
   "cell_type": "code",
   "execution_count": 128,
   "metadata": {},
   "outputs": [
    {
     "name": "stdout",
     "output_type": "stream",
     "text": [
      "0.6666666666666666\n"
     ]
    }
   ],
   "source": [
    "#date_new = date_new.strftime('%Y-%m-%d')\n",
    "#type(date_check.shape[0])"
   ]
  },
  {
   "cell_type": "code",
   "execution_count": null,
   "metadata": {},
   "outputs": [],
   "source": [
    "n = 0\n",
    "for i in date_check.index:\n",
    "    date_new = str(date_check.ix[i,0])[:10]\n",
    "    for j in range(0,6):\n",
    "        date_new = dt.datetime.strptime(date_new, '%Y-%m-%d')+dt.timedelta(days=monthrange(int(date_new[:4]),int(date_new[5:7]))[1])\n",
    "        date_new = date_new.strftime('%Y-%m-%d')\n",
    "    if date_new >= date_check.ix[3,1]:\n",
    "        n += 1\n",
    "print(n)\n",
    "print(n/date_check.shape[0])"
   ]
  },
  {
   "cell_type": "code",
   "execution_count": 21,
   "metadata": {},
   "outputs": [],
   "source": [
    "def date_confidence():\n",
    "    date_check = self.merged_table[['datadate','rdq']].dropna(axis = 0, how = 'any')\n",
    "    n = 0\n",
    "    for i in date_check.index:\n",
    "        date_new = str(data_check.ix[i,0])[:10]\n",
    "        for j in range(0,6):\n",
    "            date_new = dt.datetime.strptime(date_new, '%Y-%m-%d')+dt.timedelta(days=monthrange(int(date_new[:4]),int(date_new[5:7]))[1])\n",
    "            date_new = date_new.strftime('%Y-%m-%d')\n",
    "        if date_new >= data_check.ix[3,1]:\n",
    "            n += 1\n",
    "    return (n/date_check.shape[0])"
   ]
  },
  {
   "cell_type": "code",
   "execution_count": 54,
   "metadata": {},
   "outputs": [],
   "source": [
    "import pandas as pd\n",
    "import numpy as np\n",
    "import datetime as dt\n",
    "from calendar import monthrange\n",
    "import utils\n",
    "\n",
    "class DataLoader:\n",
    "\n",
    "    def __init__(self, loc):\n",
    "        self.data_location = loc\n",
    "\n",
    "        self.merged_table = None\n",
    "\n",
    "        self.__load_data__()\n",
    "\n",
    "        self.merge()\n",
    "\n",
    "\n",
    "    def __load_data__(self):\n",
    "        link_table = pd.read_csv('{loc}link table 1962-2001_csv.zip'.format(loc=self.data_location),\n",
    "                                 header= 0,\n",
    "                                 parse_dates=['datadate'],\n",
    "                                 usecols=['datadate', 'GVKEY', 'LPERMNO', 'conm'])\n",
    "\n",
    "        crsp = pd.read_csv('{loc}/crsp returns all 1962-2001_csv.zip'.format(loc=self.data_location),\n",
    "                           header= 0,\n",
    "                           parse_dates=['date'],\n",
    "                           usecols=['date', 'PERMNO', 'PRC', 'RET', 'SHROUT', 'SHRCD', 'EXCHCD', 'PRIMEXCH', 'SHRCLS'])\n",
    "\n",
    "        compustat = pd.read_csv('{loc}/compustat_fundamentals qtr 1962-2001_csv.zip'.format(loc=self.data_location),\n",
    "                                header= 0 ,\n",
    "                                parse_dates=['datadate'],\n",
    "                                usecols=['datadate', 'gvkey', 'exchg', 'fyearq', 'datafqtr','prccq','atq','ltq','niq','rdq'])\n",
    "\n",
    "        self.data = {'link':link_table, 'crsp':crsp, 'compustat': compustat}\n",
    "        self.load_mcap_breakpoints()\n",
    "\n",
    "        self.process_data()\n",
    "        self.apply_filter()\n",
    "\n",
    "\n",
    "\n",
    "    def apply_filter(self):\n",
    "        exchg_selected = [1,2,3]\n",
    "        self.data['crsp'] = self.data['crsp'][self.data['crsp'].EXCHCD.isin(exchg_selected)]\n",
    "\n",
    "        shrcd_selected = [10,11]\n",
    "        self.data['crsp']= self.data['crsp'][self.data['crsp'].SHRCD.isin(shrcd_selected)]\n",
    "\n",
    "\n",
    "    def process_data(self):\n",
    "        # fill empty share class with NA\n",
    "        self.data['crsp']['SHRCLS'] = self.data['crsp']['SHRCLS'].fillna('NA')\n",
    "\n",
    "        # add market cap column to crsp\n",
    "        self.data['crsp'].loc[:, 'mcap'] = np.abs(self.data['crsp']['PRC']) * self.data['crsp']['SHROUT']\n",
    "\n",
    "        # add the month end dates\n",
    "        vs = [utils.last_day_of_month(pd.to_datetime(uu)) for uu in self.data['crsp'].date.unique()]\n",
    "        me_date_map = dict(zip(self.data['crsp'].date.unique(), vs))\n",
    "        self.data['crsp'].loc[:, 'me_date'] = [me_date_map[uu] for uu in self.data['crsp'].date.values]\n",
    "\n",
    "\n",
    "    def merge(self, reload=False):\n",
    "        if self.merged_table is None or reload:\n",
    "            #change columns name to make sure column names are same in both database\n",
    "            linktable = self.data['link'].rename(columns = {'GVKEY':'gvkey'})\n",
    "\n",
    "            #merge compustat and link table\n",
    "            tmp = pd.merge(self.data['crsp'],\n",
    "                           linktable ,\n",
    "                           how ='inner',\n",
    "                           left_on=['PERMNO', 'me_date'],\n",
    "                           right_on= ['LPERMNO', 'datadate'])\n",
    "\n",
    "            tmp = self.aggregate_crsp_table(tmp)\n",
    "\n",
    "            #merge with compustat\n",
    "            merged = pd.merge(self.data['compustat'],\n",
    "                              tmp,\n",
    "                              how ='inner',\n",
    "                              on=['gvkey', 'datadate'])\n",
    "\n",
    "            self.merged_table = pd.merge(merged,\n",
    "                                         self.mcap_breakpoints,\n",
    "                                         how='left',\n",
    "                                         left_on='datadate',\n",
    "                                         right_on='mcap_date')\n",
    "\n",
    "\n",
    "    def load_mcap_breakpoints(self):\n",
    "        # FAMA FRENCH NYSE ME breakpoints\n",
    "        ff_me_breakpoints = pd.read_csv('{loc}ME_Breakpoints_csv.zip'.format(loc=self.data_location),\n",
    "                                        skiprows=[0],\n",
    "                                        header=-1,\n",
    "                                        names=['date', 'count'] + [5*x for x in np.arange(1,21)]).iloc[:-1]\n",
    "        dts = [utils.last_day_of_month(pd.Timestamp('%s-%s-01' % (x[:4], x[4:6]))) for x in ff_me_breakpoints.date.values]\n",
    "        ff_me_breakpoints.loc[:, 'date'] = dts\n",
    "\n",
    "        self.mcap_breakpoints = ff_me_breakpoints[['date', 20]]\n",
    "        self.mcap_breakpoints.columns = ['mcap_date', 'breakpt']\n",
    "        self.mcap_breakpoints.loc[:, 'breakpt'] = self.mcap_breakpoints['breakpt'] * 1000  # to be consistent with the 'mcap' column\n",
    "\n",
    "\n",
    "    def get_timeseries_by_column(self, col='atq'):\n",
    "        raise(\"implement me\")\n",
    "\n",
    "    @staticmethod\n",
    "    def aggregate_crsp_table(df):\n",
    "        return df\n",
    "    def date_confidence(self):\n",
    "        date_check = self.merged_table[['datadate','rdq']].dropna(axis = 0, how = 'any')\n",
    "        n = 0\n",
    "        for i in date_check.index:\n",
    "            date_new = str(date_check.ix[i,0])[:10]\n",
    "            for j in range(0,6):\n",
    "                date_new = dt.datetime.strptime(date_new, '%Y-%m-%d')+dt.timedelta(days=monthrange(int(date_new[:4]),int(date_new[5:7]))[1])\n",
    "                date_new = date_new.strftime('%Y-%m-%d')\n",
    "            if date_new >= date_check.ix[i,1].replace('/','-'):\n",
    "                n += 1\n",
    "        return (n/date_check.shape[0])"
   ]
  },
  {
   "cell_type": "code",
   "execution_count": 55,
   "metadata": {},
   "outputs": [],
   "source": [
    "m = DataLoader('C:/Users/Biao Feng/source/Anaconda3/practicum/')"
   ]
  },
  {
   "cell_type": "code",
   "execution_count": 56,
   "metadata": {},
   "outputs": [
    {
     "name": "stderr",
     "output_type": "stream",
     "text": [
      "C:\\Users\\Biao Feng\\Anaconda3\\lib\\site-packages\\ipykernel_launcher.py:117: DeprecationWarning: \n",
      ".ix is deprecated. Please use\n",
      ".loc for label based indexing or\n",
      ".iloc for positional indexing\n",
      "\n",
      "See the documentation here:\n",
      "http://pandas.pydata.org/pandas-docs/stable/indexing.html#ix-indexer-is-deprecated\n",
      "C:\\Users\\Biao Feng\\Anaconda3\\lib\\site-packages\\ipykernel_launcher.py:121: DeprecationWarning: \n",
      ".ix is deprecated. Please use\n",
      ".loc for label based indexing or\n",
      ".iloc for positional indexing\n",
      "\n",
      "See the documentation here:\n",
      "http://pandas.pydata.org/pandas-docs/stable/indexing.html#ix-indexer-is-deprecated\n"
     ]
    },
    {
     "data": {
      "text/plain": [
       "0.9994278189383518"
      ]
     },
     "execution_count": 56,
     "metadata": {},
     "output_type": "execute_result"
    }
   ],
   "source": [
    "m.date_confidence()"
   ]
  },
  {
   "cell_type": "code",
   "execution_count": 57,
   "metadata": {},
   "outputs": [
    {
     "name": "stderr",
     "output_type": "stream",
     "text": [
      "C:\\Users\\Biao Feng\\Anaconda3\\lib\\site-packages\\ipykernel_launcher.py:1: DeprecationWarning: \n",
      ".ix is deprecated. Please use\n",
      ".loc for label based indexing or\n",
      ".iloc for positional indexing\n",
      "\n",
      "See the documentation here:\n",
      "http://pandas.pydata.org/pandas-docs/stable/indexing.html#ix-indexer-is-deprecated\n",
      "  \"\"\"Entry point for launching an IPython kernel.\n"
     ]
    },
    {
     "ename": "NameError",
     "evalue": "name 'i' is not defined",
     "output_type": "error",
     "traceback": [
      "\u001b[1;31m---------------------------------------------------------------------------\u001b[0m",
      "\u001b[1;31mNameError\u001b[0m                                 Traceback (most recent call last)",
      "\u001b[1;32m<ipython-input-57-6d6e7a5f25e8>\u001b[0m in \u001b[0;36m<module>\u001b[1;34m\u001b[0m\n\u001b[1;32m----> 1\u001b[1;33m \u001b[0mdate_check\u001b[0m\u001b[1;33m.\u001b[0m\u001b[0mix\u001b[0m\u001b[1;33m[\u001b[0m\u001b[0mi\u001b[0m\u001b[1;33m,\u001b[0m\u001b[1;36m1\u001b[0m\u001b[1;33m]\u001b[0m\u001b[1;33m\u001b[0m\u001b[1;33m\u001b[0m\u001b[0m\n\u001b[0m",
      "\u001b[1;31mNameError\u001b[0m: name 'i' is not defined"
     ]
    }
   ],
   "source": [
    "date_check.ix[i,1]"
   ]
  },
  {
   "cell_type": "code",
   "execution_count": null,
   "metadata": {},
   "outputs": [],
   "source": [
    "date_check = self.merged_table[['datadate','rdq']].dropna(axis = 0, how = 'any')\n",
    "n = 0\n",
    "for i in date_check.index:\n",
    "    date_new = str(date_check.ix[i,0])[:10]\n",
    "            for j in range(0,6):\n",
    "                date_new = dt.datetime.strptime(date_new, '%Y-%m-%d')+dt.timedelta(days=monthrange(int(date_new[:4]),int(date_new[5:7]))[1])\n",
    "                date_new = date_new.strftime('%Y-%m-%d')\n",
    "            if date_new >= date_check.ix[i,1]:\n",
    "                n += 1\n",
    "        return (n/date_check.shape[0])"
   ]
  },
  {
   "cell_type": "code",
   "execution_count": 15,
   "metadata": {},
   "outputs": [],
   "source": [
    "compustat_1 = compustat.drop_duplicates()\n",
    "#v = compustat_1.pivot(index = 'datadate',columns = 'gvkey',values = 'state')"
   ]
  },
  {
   "cell_type": "code",
   "execution_count": null,
   "metadata": {},
   "outputs": [],
   "source": [
    "v = compustat_1.pivot(index = 'datadate',columns = 'gvkey',values = 'state')"
   ]
  },
  {
   "cell_type": "code",
   "execution_count": 9,
   "metadata": {},
   "outputs": [
    {
     "ename": "NameError",
     "evalue": "name 'v' is not defined",
     "output_type": "error",
     "traceback": [
      "\u001b[1;31m---------------------------------------------------------------------------\u001b[0m",
      "\u001b[1;31mNameError\u001b[0m                                 Traceback (most recent call last)",
      "\u001b[1;32m<ipython-input-9-c850337d9265>\u001b[0m in \u001b[0;36m<module>\u001b[1;34m\u001b[0m\n\u001b[1;32m----> 1\u001b[1;33m \u001b[0mv\u001b[0m\u001b[1;33m.\u001b[0m\u001b[0mcount\u001b[0m\u001b[1;33m(\u001b[0m\u001b[1;36m1\u001b[0m\u001b[1;33m)\u001b[0m\u001b[1;33m.\u001b[0m\u001b[0mplot\u001b[0m\u001b[1;33m\u001b[0m\u001b[1;33m\u001b[0m\u001b[0m\n\u001b[0m",
      "\u001b[1;31mNameError\u001b[0m: name 'v' is not defined"
     ]
    }
   ],
   "source": [
    "v.count(1).plot"
   ]
  },
  {
   "cell_type": "code",
   "execution_count": 12,
   "metadata": {},
   "outputs": [
    {
     "ename": "NameError",
     "evalue": "name 'crsp_dat' is not defined",
     "output_type": "error",
     "traceback": [
      "\u001b[1;31m---------------------------------------------------------------------------\u001b[0m",
      "\u001b[1;31mNameError\u001b[0m                                 Traceback (most recent call last)",
      "\u001b[1;32m<ipython-input-12-8cf2fb164b5d>\u001b[0m in \u001b[0;36m<module>\u001b[1;34m\u001b[0m\n\u001b[1;32m----> 1\u001b[1;33m \u001b[0mcrsp_dat\u001b[0m\u001b[1;33m.\u001b[0m\u001b[0mcolumns\u001b[0m\u001b[1;33m\u001b[0m\u001b[1;33m\u001b[0m\u001b[0m\n\u001b[0m",
      "\u001b[1;31mNameError\u001b[0m: name 'crsp_dat' is not defined"
     ]
    }
   ],
   "source": [
    "crsp_dat.columns"
   ]
  }
 ],
 "metadata": {
  "kernelspec": {
   "display_name": "Python 3",
   "language": "python",
   "name": "python3"
  },
  "language_info": {
   "codemirror_mode": {
    "name": "ipython",
    "version": 3
   },
   "file_extension": ".py",
   "mimetype": "text/x-python",
   "name": "python",
   "nbconvert_exporter": "python",
   "pygments_lexer": "ipython3",
   "version": "3.7.1"
  }
 },
 "nbformat": 4,
 "nbformat_minor": 2
}
